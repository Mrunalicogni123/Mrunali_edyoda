{
 "cells": [
  {
   "cell_type": "code",
   "execution_count": 1,
   "id": "b50d9d02",
   "metadata": {},
   "outputs": [
    {
     "name": "stdout",
     "output_type": "stream",
     "text": [
      "enter the first number of range  0\n",
      "enter the last number of range   50\n",
      "fibbonacci series between 0 to 50 is\n",
      "1 1 2 3 5 8 13 21 34 "
     ]
    }
   ],
   "source": [
    "#Write a Python program to get the Fibonacci series between 0 to 50\n",
    "n1=int(input(\"enter the first number of range  \"))\n",
    "n2=int(input(\"enter the last number of range   \"))\n",
    "print(\"fibbonacci series between\" ,n1,\"to\"  ,n2, \"is\")\n",
    "a=0\n",
    "b=1\n",
    "for i in range(n1,n2):  \n",
    "    c=a+b\n",
    "    a=b\n",
    "    b=c\n",
    "    print(a, end=\" \") \n",
    "    if (b>n2):\n",
    "        break"
   ]
  },
  {
   "cell_type": "code",
   "execution_count": null,
   "id": "08eebaee",
   "metadata": {},
   "outputs": [],
   "source": []
  },
  {
   "cell_type": "code",
   "execution_count": null,
   "id": "7aac8e28",
   "metadata": {},
   "outputs": [],
   "source": []
  }
 ],
 "metadata": {
  "kernelspec": {
   "display_name": "Python 3 (ipykernel)",
   "language": "python",
   "name": "python3"
  },
  "language_info": {
   "codemirror_mode": {
    "name": "ipython",
    "version": 3
   },
   "file_extension": ".py",
   "mimetype": "text/x-python",
   "name": "python",
   "nbconvert_exporter": "python",
   "pygments_lexer": "ipython3",
   "version": "3.9.12"
  }
 },
 "nbformat": 4,
 "nbformat_minor": 5
}
